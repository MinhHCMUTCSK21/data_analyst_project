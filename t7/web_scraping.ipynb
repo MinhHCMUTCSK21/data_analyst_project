{
 "cells": [
  {
   "cell_type": "code",
   "execution_count": 40,
   "metadata": {},
   "outputs": [],
   "source": [
    "import pandas as pd\n",
    "from bs4 import BeautifulSoup\n",
    "import requests\n",
    "import numpy as np"
   ]
  },
  {
   "cell_type": "code",
   "execution_count": 58,
   "metadata": {},
   "outputs": [],
   "source": [
    "soup = BeautifulSoup(requests.get('https://en.wikipedia.org/wiki/List_of_largest_companies_by_revenue').text,'lxml')\n",
    "\n",
    "table = soup.find('table')\n",
    "\n",
    "body = table.find('tbody')\n",
    "\n",
    "body_detail = body.find_all('tr')\n",
    "\n",
    "data = []\n",
    "for row in body_detail:\n",
    "    cols = row.find_all('td')\n",
    "    arr = []\n",
    "    for col in cols:\n",
    "        arr.append(col.text.strip())\n",
    "        if (col.get('data-sort-value') == \"No\"):\n",
    "            arr.append(\"No\") \n",
    "        elif(col.get('data-sort-value') == \"Yes\"):\n",
    "            arr.append(\"Yes\")\n",
    "    data.append(arr)\n",
    "\n",
    "df = pd.DataFrame(data, columns=['1','2','3','4','5','6','7','8','9'])\n",
    "df.drop([0,1], inplace=True)\n",
    "\n",
    "df.reset_index(drop=True,inplace=True)\n",
    "\n",
    "df.drop(columns=['7','9'], inplace=True)\n",
    "\n",
    "df.rename(columns={'1':'Name','2':'Industry','3':'Revenue','4':'Profit','5':'Employees','6':'Country','8':'State-owned'}, inplace=True)\n",
    "df.rename(columns={'Revenue':'Revenue (USD millions)','Profit':'Profit (USD millions)'}, inplace=True)\n",
    "\n",
    "df['Revenue (USD millions)'] = df['Revenue (USD millions)'].str.replace('$','')\n",
    "df['Profit (USD millions)'] = df['Profit (USD millions)'].str.replace('$','')\n",
    "\n",
    "df['Profit (USD millions)'] = df['Profit (USD millions)'].replace('...', np.nan)\n",
    "\n",
    "df['Revenue (USD millions)'] = df['Revenue (USD millions)'].str.replace(',','')\n",
    "df['Profit (USD millions)'] = df['Profit (USD millions)'].str.replace(',','')\n",
    "df['Employees'] = df['Employees'].str.replace(',','')\n",
    "\n",
    "df['Employees'] = df['Employees'].astype(int)\n",
    "df['Revenue (USD millions)'] = df['Revenue (USD millions)'].astype(int)\n",
    "\n",
    "df['Profit (USD millions)'] = df['Profit (USD millions)'].str.replace('−','-')\n",
    "df['Profit (USD millions)'] = df['Profit (USD millions)'].str.replace('–','-')\n",
    "\n",
    "df['Profit (USD millions)'] = pd.to_numeric(df['Profit (USD millions)'], errors='coerce')\n",
    "\n",
    "\n",
    "df.to_csv('largest_companies.csv', index=False)"
   ]
  },
  {
   "cell_type": "code",
   "execution_count": null,
   "metadata": {},
   "outputs": [],
   "source": []
  }
 ],
 "metadata": {
  "kernelspec": {
   "display_name": "Python 3",
   "language": "python",
   "name": "python3"
  },
  "language_info": {
   "codemirror_mode": {
    "name": "ipython",
    "version": 3
   },
   "file_extension": ".py",
   "mimetype": "text/x-python",
   "name": "python",
   "nbconvert_exporter": "python",
   "pygments_lexer": "ipython3",
   "version": "3.11.7"
  }
 },
 "nbformat": 4,
 "nbformat_minor": 2
}
