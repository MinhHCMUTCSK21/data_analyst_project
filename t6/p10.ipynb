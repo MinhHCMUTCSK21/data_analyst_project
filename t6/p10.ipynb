{
 "cells": [
  {
   "cell_type": "code",
   "execution_count": 1,
   "metadata": {},
   "outputs": [],
   "source": [
    "import seaborn as sns\n",
    "import matplotlib.pyplot as plt\n",
    "import pandas as pd\n",
    "import numpy as np"
   ]
  },
  {
   "cell_type": "code",
   "execution_count": 12,
   "metadata": {},
   "outputs": [
    {
     "data": {
      "text/html": [
       "<div>\n",
       "<style scoped>\n",
       "    .dataframe tbody tr th:only-of-type {\n",
       "        vertical-align: middle;\n",
       "    }\n",
       "\n",
       "    .dataframe tbody tr th {\n",
       "        vertical-align: top;\n",
       "    }\n",
       "\n",
       "    .dataframe thead th {\n",
       "        text-align: right;\n",
       "    }\n",
       "</style>\n",
       "<table border=\"1\" class=\"dataframe\">\n",
       "  <thead>\n",
       "    <tr style=\"text-align: right;\">\n",
       "      <th></th>\n",
       "      <th>year</th>\n",
       "      <th>state</th>\n",
       "      <th>month</th>\n",
       "      <th>number</th>\n",
       "      <th>date</th>\n",
       "    </tr>\n",
       "  </thead>\n",
       "  <tbody>\n",
       "    <tr>\n",
       "      <th>0</th>\n",
       "      <td>1998</td>\n",
       "      <td>Acre</td>\n",
       "      <td>Janeiro</td>\n",
       "      <td>0.0</td>\n",
       "      <td>1998-01-01</td>\n",
       "    </tr>\n",
       "    <tr>\n",
       "      <th>1</th>\n",
       "      <td>1999</td>\n",
       "      <td>Acre</td>\n",
       "      <td>Janeiro</td>\n",
       "      <td>0.0</td>\n",
       "      <td>1999-01-01</td>\n",
       "    </tr>\n",
       "    <tr>\n",
       "      <th>2</th>\n",
       "      <td>2000</td>\n",
       "      <td>Acre</td>\n",
       "      <td>Janeiro</td>\n",
       "      <td>0.0</td>\n",
       "      <td>2000-01-01</td>\n",
       "    </tr>\n",
       "    <tr>\n",
       "      <th>3</th>\n",
       "      <td>2001</td>\n",
       "      <td>Acre</td>\n",
       "      <td>Janeiro</td>\n",
       "      <td>0.0</td>\n",
       "      <td>2001-01-01</td>\n",
       "    </tr>\n",
       "    <tr>\n",
       "      <th>4</th>\n",
       "      <td>2002</td>\n",
       "      <td>Acre</td>\n",
       "      <td>Janeiro</td>\n",
       "      <td>0.0</td>\n",
       "      <td>2002-01-01</td>\n",
       "    </tr>\n",
       "  </tbody>\n",
       "</table>\n",
       "</div>"
      ],
      "text/plain": [
       "   year state    month  number       date\n",
       "0  1998  Acre  Janeiro     0.0 1998-01-01\n",
       "1  1999  Acre  Janeiro     0.0 1999-01-01\n",
       "2  2000  Acre  Janeiro     0.0 2000-01-01\n",
       "3  2001  Acre  Janeiro     0.0 2001-01-01\n",
       "4  2002  Acre  Janeiro     0.0 2002-01-01"
      ]
     },
     "execution_count": 12,
     "metadata": {},
     "output_type": "execute_result"
    }
   ],
   "source": [
    "df = pd.read_csv('amazon.csv', encoding='ISO-8859-1', parse_dates=['date'])\n",
    "df.head()"
   ]
  },
  {
   "cell_type": "code",
   "execution_count": 6,
   "metadata": {},
   "outputs": [
    {
     "data": {
      "text/plain": [
       "(6454, 5)"
      ]
     },
     "execution_count": 6,
     "metadata": {},
     "output_type": "execute_result"
    }
   ],
   "source": [
    "df.shape"
   ]
  },
  {
   "cell_type": "code",
   "execution_count": 13,
   "metadata": {},
   "outputs": [
    {
     "name": "stdout",
     "output_type": "stream",
     "text": [
      "<class 'pandas.core.frame.DataFrame'>\n",
      "RangeIndex: 6454 entries, 0 to 6453\n",
      "Data columns (total 5 columns):\n",
      " #   Column  Non-Null Count  Dtype         \n",
      "---  ------  --------------  -----         \n",
      " 0   year    6454 non-null   int64         \n",
      " 1   state   6454 non-null   object        \n",
      " 2   month   6454 non-null   object        \n",
      " 3   number  6454 non-null   float64       \n",
      " 4   date    6454 non-null   datetime64[ns]\n",
      "dtypes: datetime64[ns](1), float64(1), int64(1), object(2)\n",
      "memory usage: 252.2+ KB\n"
     ]
    }
   ],
   "source": [
    "df.info()"
   ]
  },
  {
   "cell_type": "code",
   "execution_count": 14,
   "metadata": {},
   "outputs": [],
   "source": [
    "df.drop_duplicates(inplace=True)"
   ]
  },
  {
   "cell_type": "code",
   "execution_count": 15,
   "metadata": {},
   "outputs": [
    {
     "data": {
      "text/plain": [
       "year      0\n",
       "state     0\n",
       "month     0\n",
       "number    0\n",
       "date      0\n",
       "dtype: int64"
      ]
     },
     "execution_count": 15,
     "metadata": {},
     "output_type": "execute_result"
    }
   ],
   "source": [
    "df.isnull().sum()"
   ]
  },
  {
   "cell_type": "code",
   "execution_count": 16,
   "metadata": {},
   "outputs": [],
   "source": [
    "df['month'] = df['month'].map({'Janeiro': 'Jan',\n",
    "    'Fevereiro': 'Feb',\n",
    "    'Março': 'Mar',\n",
    "    'Abril': 'Apr',\n",
    "    'Maio': 'May',\n",
    "    'Junho': 'Jun',\n",
    "    'Julho': 'Jul',\n",
    "    'Agosto': 'Aug',\n",
    "    'Setembro': 'Sep',\n",
    "    'Outubro': 'Oct',\n",
    "    'Novembro': 'Nov',\n",
    "    'Dezembro': 'Dec' })"
   ]
  },
  {
   "cell_type": "code",
   "execution_count": 18,
   "metadata": {},
   "outputs": [
    {
     "data": {
      "text/plain": [
       "698811.073"
      ]
     },
     "execution_count": 18,
     "metadata": {},
     "output_type": "execute_result"
    }
   ],
   "source": [
    "df[df['number'] > 0]['number'].sum()"
   ]
  },
  {
   "cell_type": "code",
   "execution_count": 19,
   "metadata": {},
   "outputs": [
    {
     "data": {
      "text/plain": [
       "month\n",
       "Jul    92319.113\n",
       "Oct    88681.579\n",
       "Aug    88050.435\n",
       "Nov    85508.054\n",
       "Sep    58578.305\n",
       "Dec    57535.480\n",
       "Jun    55997.675\n",
       "Jan    47681.844\n",
       "May    34725.363\n",
       "Feb    30839.050\n",
       "Mar    30709.405\n",
       "Apr    28184.770\n",
       "Name: number, dtype: float64"
      ]
     },
     "execution_count": 19,
     "metadata": {},
     "output_type": "execute_result"
    }
   ],
   "source": [
    "df.groupby('month')['number'].sum().sort_values(ascending=False)"
   ]
  },
  {
   "cell_type": "code",
   "execution_count": 20,
   "metadata": {},
   "outputs": [
    {
     "data": {
      "text/plain": [
       "year\n",
       "2003    42760.674\n",
       "2016    42212.229\n",
       "2015    41208.292\n",
       "2012    40084.860\n",
       "2014    39621.183\n",
       "2009    39116.178\n",
       "2004    38450.163\n",
       "2002    37390.600\n",
       "2010    37037.449\n",
       "2017    36619.624\n",
       "2013    35137.118\n",
       "2005    35004.965\n",
       "2011    34633.545\n",
       "2006    33824.161\n",
       "2007    33028.413\n",
       "2008    29378.964\n",
       "2001    29054.612\n",
       "2000    27351.251\n",
       "1999    26882.821\n",
       "1998    20013.971\n",
       "Name: number, dtype: float64"
      ]
     },
     "execution_count": 20,
     "metadata": {},
     "output_type": "execute_result"
    }
   ],
   "source": [
    "df.groupby('year')['number'].sum().sort_values(ascending=False)"
   ]
  },
  {
   "cell_type": "code",
   "execution_count": 21,
   "metadata": {},
   "outputs": [
    {
     "data": {
      "text/plain": [
       "state\n",
       "Mato Grosso         96246.028\n",
       "Paraiba             52426.918\n",
       "Sao Paulo           51121.198\n",
       "Rio                 45094.865\n",
       "Bahia               44746.226\n",
       "Piau                37803.747\n",
       "Goias               37695.520\n",
       "Minas Gerais        37475.258\n",
       "Tocantins           33707.885\n",
       "Amazonas            30650.129\n",
       "Ceara               30428.063\n",
       "Maranhao            25129.131\n",
       "Pará                24512.144\n",
       "Pernambuco          24498.000\n",
       "Roraima             24385.074\n",
       "Santa Catarina      24359.852\n",
       "Amapa               21831.576\n",
       "Rondonia            20285.429\n",
       "Acre                18464.030\n",
       "Espirito Santo       6546.000\n",
       "Alagoas              4606.000\n",
       "Distrito Federal     3561.000\n",
       "Sergipe              3237.000\n",
       "Name: number, dtype: float64"
      ]
     },
     "execution_count": 21,
     "metadata": {},
     "output_type": "execute_result"
    }
   ],
   "source": [
    "df.groupby('state')['number'].sum().sort_values(ascending=False)"
   ]
  },
  {
   "cell_type": "code",
   "execution_count": 23,
   "metadata": {},
   "outputs": [
    {
     "data": {
      "text/plain": [
       "30650.129"
      ]
     },
     "execution_count": 23,
     "metadata": {},
     "output_type": "execute_result"
    }
   ],
   "source": [
    "df[df['state']=='Amazonas']['number'].sum()"
   ]
  },
  {
   "cell_type": "code",
   "execution_count": 26,
   "metadata": {},
   "outputs": [
    {
     "data": {
      "image/png": "[encoded data removed]",
      "text/plain": [
       "<Figure size 1500x500 with 1 Axes>"
      ]
     },
     "metadata": {},
     "output_type": "display_data"
    }
   ],
   "source": [
    "df.groupby('year')['number'].sum().plot(kind='bar', figsize=(15, 5), color='cyan')\n",
    "plt.show()"
   ]
  },
  {
   "cell_type": "code",
   "execution_count": 30,
   "metadata": {},
   "outputs": [
    {
     "data": {
      "text/html": [
       "<div>\n",
       "<style scoped>\n",
       "    .dataframe tbody tr th:only-of-type {\n",
       "        vertical-align: middle;\n",
       "    }\n",
       "\n",
       "    .dataframe tbody tr th {\n",
       "        vertical-align: top;\n",
       "    }\n",
       "\n",
       "    .dataframe thead th {\n",
       "        text-align: right;\n",
       "    }\n",
       "</style>\n",
       "<table border=\"1\" class=\"dataframe\">\n",
       "  <thead>\n",
       "    <tr style=\"text-align: right;\">\n",
       "      <th></th>\n",
       "      <th>year</th>\n",
       "      <th>state</th>\n",
       "      <th>month</th>\n",
       "      <th>number</th>\n",
       "      <th>date</th>\n",
       "      <th>day</th>\n",
       "    </tr>\n",
       "  </thead>\n",
       "  <tbody>\n",
       "    <tr>\n",
       "      <th>0</th>\n",
       "      <td>1998</td>\n",
       "      <td>Acre</td>\n",
       "      <td>Jan</td>\n",
       "      <td>0.0</td>\n",
       "      <td>1998-01-01</td>\n",
       "      <td>1</td>\n",
       "    </tr>\n",
       "    <tr>\n",
       "      <th>1</th>\n",
       "      <td>1999</td>\n",
       "      <td>Acre</td>\n",
       "      <td>Jan</td>\n",
       "      <td>0.0</td>\n",
       "      <td>1999-01-01</td>\n",
       "      <td>1</td>\n",
       "    </tr>\n",
       "    <tr>\n",
       "      <th>2</th>\n",
       "      <td>2000</td>\n",
       "      <td>Acre</td>\n",
       "      <td>Jan</td>\n",
       "      <td>0.0</td>\n",
       "      <td>2000-01-01</td>\n",
       "      <td>1</td>\n",
       "    </tr>\n",
       "    <tr>\n",
       "      <th>3</th>\n",
       "      <td>2001</td>\n",
       "      <td>Acre</td>\n",
       "      <td>Jan</td>\n",
       "      <td>0.0</td>\n",
       "      <td>2001-01-01</td>\n",
       "      <td>1</td>\n",
       "    </tr>\n",
       "    <tr>\n",
       "      <th>4</th>\n",
       "      <td>2002</td>\n",
       "      <td>Acre</td>\n",
       "      <td>Jan</td>\n",
       "      <td>0.0</td>\n",
       "      <td>2002-01-01</td>\n",
       "      <td>1</td>\n",
       "    </tr>\n",
       "    <tr>\n",
       "      <th>...</th>\n",
       "      <td>...</td>\n",
       "      <td>...</td>\n",
       "      <td>...</td>\n",
       "      <td>...</td>\n",
       "      <td>...</td>\n",
       "      <td>...</td>\n",
       "    </tr>\n",
       "    <tr>\n",
       "      <th>6449</th>\n",
       "      <td>2012</td>\n",
       "      <td>Tocantins</td>\n",
       "      <td>Dec</td>\n",
       "      <td>128.0</td>\n",
       "      <td>2012-01-01</td>\n",
       "      <td>1</td>\n",
       "    </tr>\n",
       "    <tr>\n",
       "      <th>6450</th>\n",
       "      <td>2013</td>\n",
       "      <td>Tocantins</td>\n",
       "      <td>Dec</td>\n",
       "      <td>85.0</td>\n",
       "      <td>2013-01-01</td>\n",
       "      <td>1</td>\n",
       "    </tr>\n",
       "    <tr>\n",
       "      <th>6451</th>\n",
       "      <td>2014</td>\n",
       "      <td>Tocantins</td>\n",
       "      <td>Dec</td>\n",
       "      <td>223.0</td>\n",
       "      <td>2014-01-01</td>\n",
       "      <td>1</td>\n",
       "    </tr>\n",
       "    <tr>\n",
       "      <th>6452</th>\n",
       "      <td>2015</td>\n",
       "      <td>Tocantins</td>\n",
       "      <td>Dec</td>\n",
       "      <td>373.0</td>\n",
       "      <td>2015-01-01</td>\n",
       "      <td>1</td>\n",
       "    </tr>\n",
       "    <tr>\n",
       "      <th>6453</th>\n",
       "      <td>2016</td>\n",
       "      <td>Tocantins</td>\n",
       "      <td>Dec</td>\n",
       "      <td>119.0</td>\n",
       "      <td>2016-01-01</td>\n",
       "      <td>1</td>\n",
       "    </tr>\n",
       "  </tbody>\n",
       "</table>\n",
       "<p>6422 rows × 6 columns</p>\n",
       "</div>"
      ],
      "text/plain": [
       "      year      state month  number       date  day\n",
       "0     1998       Acre   Jan     0.0 1998-01-01    1\n",
       "1     1999       Acre   Jan     0.0 1999-01-01    1\n",
       "2     2000       Acre   Jan     0.0 2000-01-01    1\n",
       "3     2001       Acre   Jan     0.0 2001-01-01    1\n",
       "4     2002       Acre   Jan     0.0 2002-01-01    1\n",
       "...    ...        ...   ...     ...        ...  ...\n",
       "6449  2012  Tocantins   Dec   128.0 2012-01-01    1\n",
       "6450  2013  Tocantins   Dec    85.0 2013-01-01    1\n",
       "6451  2014  Tocantins   Dec   223.0 2014-01-01    1\n",
       "6452  2015  Tocantins   Dec   373.0 2015-01-01    1\n",
       "6453  2016  Tocantins   Dec   119.0 2016-01-01    1\n",
       "\n",
       "[6422 rows x 6 columns]"
      ]
     },
     "execution_count": 30,
     "metadata": {},
     "output_type": "execute_result"
    }
   ],
   "source": [
    "\n",
    "df"
   ]
  },
  {
   "cell_type": "code",
   "execution_count": 34,
   "metadata": {},
   "outputs": [
    {
     "data": {
      "text/plain": [
       "<Axes: xlabel='month'>"
      ]
     },
     "execution_count": 34,
     "metadata": {},
     "output_type": "execute_result"
    },
    {
     "data": {
      "image/png": "[encoded data removed]",
      "text/plain": [
       "<Figure size 1500x500 with 1 Axes>"
      ]
     },
     "metadata": {},
     "output_type": "display_data"
    }
   ],
   "source": [
    "df[df['year']== 2015].groupby('month')['number'].sum().plot(kind='bar', figsize=(15, 5), color='cyan')"
   ]
  },
  {
   "cell_type": "code",
   "execution_count": 36,
   "metadata": {},
   "outputs": [
    {
     "data": {
      "text/plain": [
       "state\n",
       "Rio                 57\n",
       "Mato Grosso         38\n",
       "Paraiba             38\n",
       "Acre                19\n",
       "Pará                19\n",
       "Sergipe             19\n",
       "Sao Paulo           19\n",
       "Santa Catarina      19\n",
       "Roraima             19\n",
       "Rondonia            19\n",
       "Piau                19\n",
       "Pernambuco          19\n",
       "Minas Gerais        19\n",
       "Alagoas             19\n",
       "Maranhao            19\n",
       "Goias               19\n",
       "Espirito Santo      19\n",
       "Distrito Federal    19\n",
       "Ceara               19\n",
       "Bahia               19\n",
       "Amazonas            19\n",
       "Amapa               19\n",
       "Tocantins           19\n",
       "Name: count, dtype: int64"
      ]
     },
     "execution_count": 36,
     "metadata": {},
     "output_type": "execute_result"
    }
   ],
   "source": [
    "df['state'][df['month']=='Dec'].value_counts()"
   ]
  },
  {
   "cell_type": "code",
   "execution_count": 37,
   "metadata": {},
   "outputs": [
    {
     "data": {
      "text/plain": [
       "day\n",
       "3    1274\n",
       "4     972\n",
       "5     972\n",
       "1     970\n",
       "6     943\n",
       "2     648\n",
       "0     643\n",
       "Name: count, dtype: int64"
      ]
     },
     "execution_count": 37,
     "metadata": {},
     "output_type": "execute_result"
    }
   ],
   "source": [
    "df['day'] = df['date'].dt.dayofweek\n",
    "\n",
    "df['day'].value_counts()"
   ]
  },
  {
   "cell_type": "code",
   "execution_count": 38,
   "metadata": {},
   "outputs": [
    {
     "data": {
      "text/plain": [
       "state\n",
       "Sao Paulo           213.896226\n",
       "Mato Grosso         203.479975\n",
       "Bahia               187.222703\n",
       "Piau                158.174674\n",
       "Goias               157.721841\n",
       "Minas Gerais        156.800243\n",
       "Tocantins           141.037176\n",
       "Amazonas            128.243218\n",
       "Ceara               127.314071\n",
       "Paraiba             111.073979\n",
       "Maranhao            105.142808\n",
       "Pará                102.561272\n",
       "Pernambuco          102.502092\n",
       "Roraima             102.029598\n",
       "Santa Catarina      101.924067\n",
       "Amapa                91.345506\n",
       "Rondonia             84.876272\n",
       "Acre                 77.255356\n",
       "Rio                  64.698515\n",
       "Espirito Santo       27.389121\n",
       "Alagoas              19.271967\n",
       "Distrito Federal     14.899582\n",
       "Sergipe              13.543933\n",
       "Name: number, dtype: float64"
      ]
     },
     "execution_count": 38,
     "metadata": {},
     "output_type": "execute_result"
    }
   ],
   "source": [
    "df.groupby('state')['number'].mean().sort_values(ascending=False)"
   ]
  }
 ],
 "metadata": {
  "kernelspec": {
   "display_name": "Python 3",
   "language": "python",
   "name": "python3"
  },
  "language_info": {
   "codemirror_mode": {
    "name": "ipython",
    "version": 3
   },
   "file_extension": ".py",
   "mimetype": "text/x-python",
   "name": "python",
   "nbconvert_exporter": "python",
   "pygments_lexer": "ipython3",
   "version": "3.11.6"
  }
 },
 "nbformat": 4,
 "nbformat_minor": 2
}
